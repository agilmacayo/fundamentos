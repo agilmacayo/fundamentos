{
 "cells": [
  {
   "cell_type": "markdown",
   "metadata": {},
   "source": [
    "### Estructuras de control"
   ]
  },
  {
   "cell_type": "code",
   "execution_count": 4,
   "metadata": {},
   "outputs": [
    {
     "name": "stdout",
     "output_type": "stream",
     "text": [
      "Puedes pasar\n"
     ]
    }
   ],
   "source": [
    "name1 = \"Pablo\"\n",
    "edad = 18\n",
    "\n",
    "if edad >= 18:\n",
    "    print(\"Puedes pasar\")\n"
   ]
  },
  {
   "cell_type": "code",
   "execution_count": 9,
   "metadata": {},
   "outputs": [
    {
     "name": "stdout",
     "output_type": "stream",
     "text": [
      "Puedes pasar Angel\n"
     ]
    }
   ],
   "source": [
    "name1 = input(\"Ingrese el nombre: \")\n",
    "\n",
    "edad = int(input(\"Ingrese la edad: \"))\n",
    "\n",
    "if edad >= 18:\n",
    "    print(\"Puedes pasar\", name1)"
   ]
  },
  {
   "cell_type": "code",
   "execution_count": 17,
   "metadata": {},
   "outputs": [
    {
     "name": "stdout",
     "output_type": "stream",
     "text": [
      "No puedes pasar  Angel\n"
     ]
    }
   ],
   "source": [
    "name1 = input(\"Ingrese el nombre: \")\n",
    "edad = int(input(\"Ingrese la edad: \"))\n",
    "day = input(\"Ingrese el día de la semana\")\n",
    "\n",
    "if (edad >= 18) and (day == \"Viernes\") or\\\n",
    "      (edad >= 18 and (day == \"Sabado\")):\n",
    "    print(\"Puedes pasar\", name1)\n",
    "else:\n",
    "    print(\"No puedes pasar \", name1)"
   ]
  },
  {
   "cell_type": "code",
   "execution_count": 20,
   "metadata": {},
   "outputs": [
    {
     "name": "stdout",
     "output_type": "stream",
     "text": [
      "No puedes pasar  Angel\n"
     ]
    }
   ],
   "source": [
    "name1 = input(\"Ingrese el nombre: \")\n",
    "edad = int(input(\"Ingrese la edad: \"))\n",
    "day = input(\"Ingrese el día de la semana\")\n",
    "\n",
    "if (edad >= 18) and (day == \"Viernes\"):\n",
    "    print(\"Puedes pasar\", name1)\n",
    "elif (edad >= 18) and (day == \"Sabado\"):\n",
    "    print(\"Puedes pasar: \" , name1)\n",
    "else:\n",
    "    print(\"No puedes pasar \", name1)"
   ]
  }
 ],
 "metadata": {
  "kernelspec": {
   "display_name": "Python 3",
   "language": "python",
   "name": "python3"
  },
  "language_info": {
   "codemirror_mode": {
    "name": "ipython",
    "version": 3
   },
   "file_extension": ".py",
   "mimetype": "text/x-python",
   "name": "python",
   "nbconvert_exporter": "python",
   "pygments_lexer": "ipython3",
   "version": "3.12.4"
  }
 },
 "nbformat": 4,
 "nbformat_minor": 2
}
